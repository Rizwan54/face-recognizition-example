{
  "nbformat": 4,
  "nbformat_minor": 0,
  "metadata": {
    "colab": {
      "name": "indian_cricket_team_face_recognizition.ipynb",
      "provenance": [],
      "collapsed_sections": []
    },
    "kernelspec": {
      "name": "python3",
      "display_name": "Python 3"
    },
    "accelerator": "GPU"
  },
  "cells": [
    {
      "cell_type": "code",
      "metadata": {
        "id": "SxZQ4991CjNG",
        "colab_type": "code",
        "colab": {
          "base_uri": "https://localhost:8080/",
          "height": 145
        },
        "outputId": "4d0fe4e5-976c-4739-cd3a-f11049da3fd8"
      },
      "source": [
        "pip install face_recognition"
      ],
      "execution_count": 15,
      "outputs": [
        {
          "output_type": "stream",
          "text": [
            "Requirement already satisfied: face_recognition in /usr/local/lib/python3.6/dist-packages (1.2.3)\n",
            "Requirement already satisfied: Pillow in /usr/local/lib/python3.6/dist-packages (from face_recognition) (4.3.0)\n",
            "Requirement already satisfied: dlib>=19.7 in /usr/local/lib/python3.6/dist-packages (from face_recognition) (19.16.0)\n",
            "Requirement already satisfied: Click>=6.0 in /usr/local/lib/python3.6/dist-packages (from face_recognition) (7.0)\n",
            "Requirement already satisfied: face-recognition-models>=0.3.0 in /usr/local/lib/python3.6/dist-packages (from face_recognition) (0.3.0)\n",
            "Requirement already satisfied: numpy in /usr/local/lib/python3.6/dist-packages (from face_recognition) (1.16.5)\n",
            "Requirement already satisfied: olefile in /usr/local/lib/python3.6/dist-packages (from Pillow->face_recognition) (0.46)\n"
          ],
          "name": "stdout"
        }
      ]
    },
    {
      "cell_type": "code",
      "metadata": {
        "id": "qT2JJrOTDVA3",
        "colab_type": "code",
        "colab": {}
      },
      "source": [
        "import face_recognition\n",
        "from PIL import Image, ImageDraw\n",
        "import numpy as np\n",
        "import os"
      ],
      "execution_count": 0,
      "outputs": []
    },
    {
      "cell_type": "code",
      "metadata": {
        "id": "BVNnMrHDDYH8",
        "colab_type": "code",
        "colab": {}
      },
      "source": [
        "# make a list of all the available images\n",
        "images = os.listdir('sample_data/images')"
      ],
      "execution_count": 0,
      "outputs": []
    },
    {
      "cell_type": "code",
      "metadata": {
        "id": "0Wweg-VoO_Az",
        "colab_type": "code",
        "colab": {}
      },
      "source": [
        ""
      ],
      "execution_count": 0,
      "outputs": []
    },
    {
      "cell_type": "code",
      "metadata": {
        "id": "UjFMPnnBF4cW",
        "colab_type": "code",
        "colab": {
          "base_uri": "https://localhost:8080/",
          "height": 55
        },
        "outputId": "6218a1c1-0d1c-4a40-96e8-425c78a526c3"
      },
      "source": [
        "print(images)"
      ],
      "execution_count": 55,
      "outputs": [
        {
          "output_type": "stream",
          "text": [
            "['pandya.jpg', 'dinesh.jpg', 'bumrah.jpg', 'chahal.jpg', 'rohit.jpg', 'kedhar.jfif', 'shami.jfif', 'dhoni.jpg', 'kohli.jfif', 'ashwin.jpg', 'dhavan.jpg', 'jadeja.jpg', 'buvaneshwar.jpg', 'rahul.jfif']\n"
          ],
          "name": "stdout"
        }
      ]
    },
    {
      "cell_type": "code",
      "metadata": {
        "id": "3nqraIdcF80e",
        "colab_type": "code",
        "colab": {}
      },
      "source": [
        "known_face_encodings = []\n",
        "\n",
        "# iterate over each image\n",
        "for image in images:\n",
        "  \n",
        "  # load the image\n",
        "  current_image = face_recognition.load_image_file(\"sample_data/images/\" + image)\n",
        "\n",
        "  # encode the loaded image into a feature vector\n",
        "  current_image_encoded = face_recognition.face_encodings(current_image)[0]\n",
        "  \n",
        "  #append the all the encode images into a list\n",
        "  known_face_encodings.append(current_image_encoded)\n"
      ],
      "execution_count": 0,
      "outputs": []
    },
    {
      "cell_type": "code",
      "metadata": {
        "id": "hV0amHqfGlKO",
        "colab_type": "code",
        "colab": {}
      },
      "source": [
        "# print(known_face_encodings)"
      ],
      "execution_count": 0,
      "outputs": []
    },
    {
      "cell_type": "code",
      "metadata": {
        "id": "dnazJle0HKvm",
        "colab_type": "code",
        "colab": {}
      },
      "source": [
        "# Load an image with an unknown face\n",
        "unknown_image = face_recognition.load_image_file(\"sample_data/jadeja_p.png\")"
      ],
      "execution_count": 0,
      "outputs": []
    },
    {
      "cell_type": "markdown",
      "metadata": {
        "id": "mMVp1WZnRsJE",
        "colab_type": "text"
      },
      "source": [
        ""
      ]
    },
    {
      "cell_type": "code",
      "metadata": {
        "id": "ze-1UVhjLLIn",
        "colab_type": "code",
        "colab": {}
      },
      "source": [
        "# Find all the faces and face encodings in the unknown image\n",
        "face_locations = face_recognition.face_locations(unknown_image)\n",
        "face_encodings = face_recognition.face_encodings(unknown_image, face_locations)"
      ],
      "execution_count": 0,
      "outputs": []
    },
    {
      "cell_type": "code",
      "metadata": {
        "id": "lPc0YWPULQxe",
        "colab_type": "code",
        "colab": {
          "base_uri": "https://localhost:8080/",
          "height": 35
        },
        "outputId": "0e046e25-bedd-4e1c-9d0e-af822d9ad181"
      },
      "source": [
        "print(face_locations)"
      ],
      "execution_count": 96,
      "outputs": [
        {
          "output_type": "stream",
          "text": [
            "[(82, 210, 211, 81)]\n"
          ],
          "name": "stdout"
        }
      ]
    },
    {
      "cell_type": "code",
      "metadata": {
        "id": "_bPEOWtQLU4X",
        "colab_type": "code",
        "colab": {}
      },
      "source": [
        "# Convert the image to a PIL-format image so that we can draw on top of it with the Pillow library\n",
        "# See http://pillow.readthedocs.io/ for more about PIL/Pillow\n",
        "pil_image = Image.fromarray(unknown_image)\n",
        "\n",
        "# Create a Pillow ImageDraw Draw instance to draw with\n",
        "draw = ImageDraw.Draw(pil_image)"
      ],
      "execution_count": 0,
      "outputs": []
    },
    {
      "cell_type": "code",
      "metadata": {
        "id": "0y7c22ZCLYeg",
        "colab_type": "code",
        "colab": {}
      },
      "source": [
        "# Loop through each face found in the unknown image\n",
        "for (top, right, bottom, left), face_encoding in zip(face_locations, face_encodings):\n",
        "  \n",
        "  # See if the face is a match for the known face(s)\n",
        "  matches = face_recognition.compare_faces(known_face_encodings, face_encoding)\n",
        "\n",
        "  name = \"unknown\"\n",
        "\n",
        "  # If a match was found in known_face_encodings, just use the first one.\n",
        "  # if True in matches:\n",
        "  #     first_match_index = matches.index(True)\n",
        "  #     name = known_face_names[first_match_index]\n",
        "\n",
        "  # Or instead, use the known face with the smallest distance to the new face\n",
        "  face_distances = face_recognition.face_distance(known_face_encodings, face_encoding)\n",
        "  best_match_index = np.argmin(face_distances)\n",
        "  if matches[best_match_index]:\n",
        "      name = images[best_match_index]\n",
        "\n",
        "  # Draw a box around the face using the Pillow module\n",
        "  draw.rectangle(((left, top), (right, bottom)), outline=(0, 0, 255))\n",
        "\n",
        "  # Draw a label with a name below the face\n",
        "  text_width, text_height = draw.textsize(name)\n",
        "  draw.rectangle(((left, bottom - text_height - 10), (right, bottom)), fill=(0, 0, 255), outline=(0, 0, 255))\n",
        "  draw.text((left + 6, bottom - text_height - 5), name, fill=(255, 255, 255, 255))\n"
      ],
      "execution_count": 0,
      "outputs": []
    },
    {
      "cell_type": "code",
      "metadata": {
        "id": "9AKfkpolLiOT",
        "colab_type": "code",
        "colab": {}
      },
      "source": [
        "# Remove the drawing library from memory as per the Pillow docs\n",
        "del draw\n",
        "\n",
        "# Display the resulting image\n",
        "pil_image.show()\n",
        "\n",
        "# You can also save a copy of the new image to disk if you want by uncommenting this line\n",
        "pil_image.save(\"jadeja_p.png\")"
      ],
      "execution_count": 0,
      "outputs": []
    },
    {
      "cell_type": "code",
      "metadata": {
        "id": "PWuY9XHOPADp",
        "colab_type": "code",
        "colab": {}
      },
      "source": [
        ""
      ],
      "execution_count": 0,
      "outputs": []
    }
  ]
}